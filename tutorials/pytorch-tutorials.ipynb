{
 "cells": [
  {
   "cell_type": "code",
   "execution_count": 1,
   "id": "29da6348",
   "metadata": {
    "_cell_guid": "b1076dfc-b9ad-4769-8c92-a6c4dae69d19",
    "_uuid": "8f2839f25d086af736a60e9eeb907d3b93b6e0e5",
    "execution": {
     "iopub.execute_input": "2025-04-30T03:07:36.284393Z",
     "iopub.status.busy": "2025-04-30T03:07:36.284077Z",
     "iopub.status.idle": "2025-04-30T03:07:38.282464Z",
     "shell.execute_reply": "2025-04-30T03:07:38.281477Z"
    },
    "papermill": {
     "duration": 2.009337,
     "end_time": "2025-04-30T03:07:38.284294",
     "exception": false,
     "start_time": "2025-04-30T03:07:36.274957",
     "status": "completed"
    },
    "tags": []
   },
   "outputs": [],
   "source": [
    "# This Python 3 environment comes with many helpful analytics libraries installed\n",
    "# It is defined by the kaggle/python Docker image: https://github.com/kaggle/docker-python\n",
    "# For example, here's several helpful packages to load\n",
    "\n",
    "import numpy as np # linear algebra\n",
    "import pandas as pd # data processing, CSV file I/O (e.g. pd.read_csv)\n",
    "\n",
    "# Input data files are available in the read-only \"../input/\" directory\n",
    "# For example, running this (by clicking run or pressing Shift+Enter) will list all files under the input directory\n",
    "\n",
    "import os\n",
    "for dirname, _, filenames in os.walk('/kaggle/input'):\n",
    "    for filename in filenames:\n",
    "        print(os.path.join(dirname, filename))\n",
    "\n",
    "# You can write up to 20GB to the current directory (/kaggle/working/) that gets preserved as output when you create a version using \"Save & Run All\" \n",
    "# You can also write temporary files to /kaggle/temp/, but they won't be saved outside of the current session"
   ]
  },
  {
   "cell_type": "markdown",
   "id": "24af772b",
   "metadata": {
    "papermill": {
     "duration": 0.006596,
     "end_time": "2025-04-30T03:07:38.298915",
     "exception": false,
     "start_time": "2025-04-30T03:07:38.292319",
     "status": "completed"
    },
    "tags": []
   },
   "source": [
    "Following thru this guide: https://www.learnpytorch.io/"
   ]
  },
  {
   "cell_type": "markdown",
   "id": "82e7f3cd",
   "metadata": {
    "papermill": {
     "duration": 0.006755,
     "end_time": "2025-04-30T03:07:38.312303",
     "exception": false,
     "start_time": "2025-04-30T03:07:38.305548",
     "status": "completed"
    },
    "tags": []
   },
   "source": [
    "# Fundamentals"
   ]
  },
  {
   "cell_type": "code",
   "execution_count": 2,
   "id": "f40ae5e3",
   "metadata": {
    "execution": {
     "iopub.execute_input": "2025-04-30T03:07:38.327249Z",
     "iopub.status.busy": "2025-04-30T03:07:38.326327Z",
     "iopub.status.idle": "2025-04-30T03:07:43.535547Z",
     "shell.execute_reply": "2025-04-30T03:07:43.534727Z"
    },
    "papermill": {
     "duration": 5.218306,
     "end_time": "2025-04-30T03:07:43.537178",
     "exception": false,
     "start_time": "2025-04-30T03:07:38.318872",
     "status": "completed"
    },
    "tags": []
   },
   "outputs": [
    {
     "data": {
      "text/plain": [
       "'2.5.1+cu124'"
      ]
     },
     "execution_count": 2,
     "metadata": {},
     "output_type": "execute_result"
    }
   ],
   "source": [
    "import torch\n",
    "torch.__version__"
   ]
  },
  {
   "cell_type": "code",
   "execution_count": 3,
   "id": "49d430f0",
   "metadata": {
    "execution": {
     "iopub.execute_input": "2025-04-30T03:07:43.552987Z",
     "iopub.status.busy": "2025-04-30T03:07:43.551986Z",
     "iopub.status.idle": "2025-04-30T03:07:43.606704Z",
     "shell.execute_reply": "2025-04-30T03:07:43.605716Z"
    },
    "papermill": {
     "duration": 0.063938,
     "end_time": "2025-04-30T03:07:43.608402",
     "exception": false,
     "start_time": "2025-04-30T03:07:43.544464",
     "status": "completed"
    },
    "tags": []
   },
   "outputs": [
    {
     "data": {
      "text/plain": [
       "(tensor(8), 0, 8)"
      ]
     },
     "execution_count": 3,
     "metadata": {},
     "output_type": "execute_result"
    }
   ],
   "source": [
    "# scalar\n",
    "scalar = torch.tensor(8) # zero-dim tensor\n",
    "scalar, scalar.ndim, scalar.item()"
   ]
  },
  {
   "cell_type": "code",
   "execution_count": 4,
   "id": "d5a3022f",
   "metadata": {
    "execution": {
     "iopub.execute_input": "2025-04-30T03:07:43.623569Z",
     "iopub.status.busy": "2025-04-30T03:07:43.623244Z",
     "iopub.status.idle": "2025-04-30T03:07:43.630332Z",
     "shell.execute_reply": "2025-04-30T03:07:43.629479Z"
    },
    "papermill": {
     "duration": 0.016237,
     "end_time": "2025-04-30T03:07:43.631733",
     "exception": false,
     "start_time": "2025-04-30T03:07:43.615496",
     "status": "completed"
    },
    "tags": []
   },
   "outputs": [
    {
     "data": {
      "text/plain": [
       "(tensor([6, 7]), 1, torch.Size([2]))"
      ]
     },
     "execution_count": 4,
     "metadata": {},
     "output_type": "execute_result"
    }
   ],
   "source": [
    "# vector\n",
    "vector = torch.tensor([6,7]) # single-dim\n",
    "vector, vector.ndim, vector.shape # length 2 single dim"
   ]
  },
  {
   "cell_type": "code",
   "execution_count": 5,
   "id": "6c6a4ce4",
   "metadata": {
    "execution": {
     "iopub.execute_input": "2025-04-30T03:07:43.646419Z",
     "iopub.status.busy": "2025-04-30T03:07:43.645867Z",
     "iopub.status.idle": "2025-04-30T03:07:43.654176Z",
     "shell.execute_reply": "2025-04-30T03:07:43.653363Z"
    },
    "papermill": {
     "duration": 0.01715,
     "end_time": "2025-04-30T03:07:43.655495",
     "exception": false,
     "start_time": "2025-04-30T03:07:43.638345",
     "status": "completed"
    },
    "tags": []
   },
   "outputs": [
    {
     "data": {
      "text/plain": [
       "(tensor([[ 7,  8],\n",
       "         [ 9, 10]]),\n",
       " torch.Size([2, 2]))"
      ]
     },
     "execution_count": 5,
     "metadata": {},
     "output_type": "execute_result"
    }
   ],
   "source": [
    "# matrix\n",
    "mat = torch.tensor([[7,8], \n",
    "                   [9,10]])\n",
    "mat, mat.shape # each entry is dim, value is length\n",
    "# 2 dim of length 2 (2x2)"
   ]
  },
  {
   "cell_type": "code",
   "execution_count": 6,
   "id": "954e9ff6",
   "metadata": {
    "execution": {
     "iopub.execute_input": "2025-04-30T03:07:43.670264Z",
     "iopub.status.busy": "2025-04-30T03:07:43.669995Z",
     "iopub.status.idle": "2025-04-30T03:07:43.676683Z",
     "shell.execute_reply": "2025-04-30T03:07:43.675850Z"
    },
    "papermill": {
     "duration": 0.015664,
     "end_time": "2025-04-30T03:07:43.678080",
     "exception": false,
     "start_time": "2025-04-30T03:07:43.662416",
     "status": "completed"
    },
    "tags": []
   },
   "outputs": [
    {
     "data": {
      "text/plain": [
       "(tensor([[[1, 2, 3],\n",
       "          [3, 6, 9],\n",
       "          [2, 4, 5]]]),\n",
       " torch.Size([1, 3, 3]),\n",
       " 3)"
      ]
     },
     "execution_count": 6,
     "metadata": {},
     "output_type": "execute_result"
    }
   ],
   "source": [
    "# Tensor\n",
    "TENSOR = torch.tensor([[[1, 2, 3],\n",
    "                        [3, 6, 9],\n",
    "                        [2, 4, 5]]])\n",
    "TENSOR, TENSOR.shape, TENSOR.ndim # should be 1X3X3 and ndim = 3\n",
    "# go outer to inner dim\n",
    "# first 0th, then 1st, then 2nd dim"
   ]
  },
  {
   "cell_type": "code",
   "execution_count": 7,
   "id": "341bd281",
   "metadata": {
    "execution": {
     "iopub.execute_input": "2025-04-30T03:07:43.694052Z",
     "iopub.status.busy": "2025-04-30T03:07:43.693756Z",
     "iopub.status.idle": "2025-04-30T03:07:43.767150Z",
     "shell.execute_reply": "2025-04-30T03:07:43.766070Z"
    },
    "papermill": {
     "duration": 0.083729,
     "end_time": "2025-04-30T03:07:43.768693",
     "exception": false,
     "start_time": "2025-04-30T03:07:43.684964",
     "status": "completed"
    },
    "tags": []
   },
   "outputs": [
    {
     "data": {
      "text/plain": [
       "(tensor([[[0.3436, 0.7191, 0.0174],\n",
       "          [0.8965, 0.2683, 0.9044],\n",
       "          [0.8400, 0.4995, 0.1378],\n",
       "          ...,\n",
       "          [0.2684, 0.1794, 0.2461],\n",
       "          [0.0717, 0.3140, 0.8801],\n",
       "          [0.9285, 0.3631, 0.6309]],\n",
       " \n",
       "         [[0.8512, 0.8267, 0.2644],\n",
       "          [0.1670, 0.0671, 0.6812],\n",
       "          [0.8438, 0.8090, 0.4157],\n",
       "          ...,\n",
       "          [0.2793, 0.8674, 0.6264],\n",
       "          [0.6694, 0.0476, 0.5807],\n",
       "          [0.2936, 0.6651, 0.9293]],\n",
       " \n",
       "         [[0.7571, 0.9280, 0.8795],\n",
       "          [0.9001, 0.5637, 0.0643],\n",
       "          [0.8360, 0.6837, 0.9548],\n",
       "          ...,\n",
       "          [0.8061, 0.0516, 0.1386],\n",
       "          [0.1697, 0.9661, 0.5771],\n",
       "          [0.3736, 0.3120, 0.3304]],\n",
       " \n",
       "         ...,\n",
       " \n",
       "         [[0.6129, 0.1147, 0.4369],\n",
       "          [0.6032, 0.2415, 0.3781],\n",
       "          [0.9685, 0.9397, 0.2354],\n",
       "          ...,\n",
       "          [0.5666, 0.3347, 0.0334],\n",
       "          [0.6190, 0.4313, 0.3596],\n",
       "          [0.1599, 0.7461, 0.7633]],\n",
       " \n",
       "         [[0.8378, 0.2666, 0.7763],\n",
       "          [0.9549, 0.7178, 0.1386],\n",
       "          [0.0031, 0.0312, 0.9482],\n",
       "          ...,\n",
       "          [0.3515, 0.6083, 0.9643],\n",
       "          [0.6857, 0.7770, 0.5651],\n",
       "          [0.4744, 0.4674, 0.2120]],\n",
       " \n",
       "         [[0.0400, 0.5053, 0.1366],\n",
       "          [0.8375, 0.0363, 0.4501],\n",
       "          [0.3995, 0.4930, 0.8119],\n",
       "          ...,\n",
       "          [0.7643, 0.1799, 0.2665],\n",
       "          [0.6596, 0.3601, 0.3309],\n",
       "          [0.7772, 0.0166, 0.7610]]]),\n",
       " torch.float32)"
      ]
     },
     "execution_count": 7,
     "metadata": {},
     "output_type": "execute_result"
    }
   ],
   "source": [
    "# random tensors\n",
    "rand_tensor = torch.rand(size=(224, 224, 3))\n",
    "rand_tensor, rand_tensor.dtype"
   ]
  },
  {
   "cell_type": "code",
   "execution_count": 8,
   "id": "a47d2d98",
   "metadata": {
    "execution": {
     "iopub.execute_input": "2025-04-30T03:07:43.784367Z",
     "iopub.status.busy": "2025-04-30T03:07:43.784083Z",
     "iopub.status.idle": "2025-04-30T03:07:43.796342Z",
     "shell.execute_reply": "2025-04-30T03:07:43.795573Z"
    },
    "papermill": {
     "duration": 0.021976,
     "end_time": "2025-04-30T03:07:43.797714",
     "exception": false,
     "start_time": "2025-04-30T03:07:43.775738",
     "status": "completed"
    },
    "tags": []
   },
   "outputs": [
    {
     "data": {
      "text/plain": [
       "(tensor([[0., 0.],\n",
       "         [0., 0.]]),\n",
       " tensor([[1., 1.],\n",
       "         [1., 1.]]))"
      ]
     },
     "execution_count": 8,
     "metadata": {},
     "output_type": "execute_result"
    }
   ],
   "source": [
    "zeros = torch.zeros(size=(2,2))\n",
    "ones = torch.ones(size=(2,2))\n",
    "zeros, ones"
   ]
  },
  {
   "cell_type": "code",
   "execution_count": 9,
   "id": "6bb7733e",
   "metadata": {
    "execution": {
     "iopub.execute_input": "2025-04-30T03:07:43.813027Z",
     "iopub.status.busy": "2025-04-30T03:07:43.812737Z",
     "iopub.status.idle": "2025-04-30T03:07:43.825145Z",
     "shell.execute_reply": "2025-04-30T03:07:43.824173Z"
    },
    "papermill": {
     "duration": 0.021618,
     "end_time": "2025-04-30T03:07:43.826556",
     "exception": false,
     "start_time": "2025-04-30T03:07:43.804938",
     "status": "completed"
    },
    "tags": []
   },
   "outputs": [
    {
     "data": {
      "text/plain": [
       "tensor([ 0,  2,  4,  6,  8, 10])"
      ]
     },
     "execution_count": 9,
     "metadata": {},
     "output_type": "execute_result"
    }
   ],
   "source": [
    "zero_to_ten = torch.arange(0,12, step=2)\n",
    "zero_to_ten"
   ]
  },
  {
   "cell_type": "code",
   "execution_count": 10,
   "id": "595e5c7f",
   "metadata": {
    "execution": {
     "iopub.execute_input": "2025-04-30T03:07:43.842408Z",
     "iopub.status.busy": "2025-04-30T03:07:43.842130Z",
     "iopub.status.idle": "2025-04-30T03:07:43.849478Z",
     "shell.execute_reply": "2025-04-30T03:07:43.848592Z"
    },
    "papermill": {
     "duration": 0.016813,
     "end_time": "2025-04-30T03:07:43.850834",
     "exception": false,
     "start_time": "2025-04-30T03:07:43.834021",
     "status": "completed"
    },
    "tags": []
   },
   "outputs": [
    {
     "data": {
      "text/plain": [
       "tensor([1, 1, 1, 1, 1, 1])"
      ]
     },
     "execution_count": 10,
     "metadata": {},
     "output_type": "execute_result"
    }
   ],
   "source": [
    "ten_ones = torch.ones_like(input=zero_to_ten)\n",
    "ten_ones"
   ]
  },
  {
   "cell_type": "code",
   "execution_count": 11,
   "id": "f1677e2e",
   "metadata": {
    "execution": {
     "iopub.execute_input": "2025-04-30T03:07:43.865997Z",
     "iopub.status.busy": "2025-04-30T03:07:43.865716Z",
     "iopub.status.idle": "2025-04-30T03:07:43.872040Z",
     "shell.execute_reply": "2025-04-30T03:07:43.871092Z"
    },
    "papermill": {
     "duration": 0.015559,
     "end_time": "2025-04-30T03:07:43.873471",
     "exception": false,
     "start_time": "2025-04-30T03:07:43.857912",
     "status": "completed"
    },
    "tags": []
   },
   "outputs": [
    {
     "data": {
      "text/plain": [
       "(torch.Size([3]), torch.float32, device(type='cpu'))"
      ]
     },
     "execution_count": 11,
     "metadata": {},
     "output_type": "execute_result"
    }
   ],
   "source": [
    "# Default datatype for tensors is float32\n",
    "float_32_tensor = torch.tensor([3.0, 6.0, 9.0],\n",
    "                               dtype=None, # defaults to None, which is torch.float32 or whatever datatype is passed\n",
    "                               device=None, # defaults to None, which uses the default tensor type\n",
    "                               requires_grad=False) # if True, operations performed on the tensor are recorded \n",
    "\n",
    "float_32_tensor.shape, float_32_tensor.dtype, float_32_tensor.device"
   ]
  },
  {
   "cell_type": "code",
   "execution_count": 12,
   "id": "aa2c719a",
   "metadata": {
    "execution": {
     "iopub.execute_input": "2025-04-30T03:07:43.889751Z",
     "iopub.status.busy": "2025-04-30T03:07:43.889412Z",
     "iopub.status.idle": "2025-04-30T03:07:43.895048Z",
     "shell.execute_reply": "2025-04-30T03:07:43.894207Z"
    },
    "papermill": {
     "duration": 0.015294,
     "end_time": "2025-04-30T03:07:43.896385",
     "exception": false,
     "start_time": "2025-04-30T03:07:43.881091",
     "status": "completed"
    },
    "tags": []
   },
   "outputs": [
    {
     "data": {
      "text/plain": [
       "torch.float16"
      ]
     },
     "execution_count": 12,
     "metadata": {},
     "output_type": "execute_result"
    }
   ],
   "source": [
    "float_16_tensor = torch.tensor([3,2,6], dtype=torch.float16)\n",
    "float_16_tensor.dtype"
   ]
  },
  {
   "cell_type": "markdown",
   "id": "c37ca943",
   "metadata": {
    "papermill": {
     "duration": 0.007005,
     "end_time": "2025-04-30T03:07:43.910626",
     "exception": false,
     "start_time": "2025-04-30T03:07:43.903621",
     "status": "completed"
    },
    "tags": []
   },
   "source": [
    "## Tensor Ops"
   ]
  },
  {
   "cell_type": "code",
   "execution_count": 13,
   "id": "882a0c15",
   "metadata": {
    "execution": {
     "iopub.execute_input": "2025-04-30T03:07:43.926205Z",
     "iopub.status.busy": "2025-04-30T03:07:43.925930Z",
     "iopub.status.idle": "2025-04-30T03:07:43.936274Z",
     "shell.execute_reply": "2025-04-30T03:07:43.935267Z"
    },
    "papermill": {
     "duration": 0.019805,
     "end_time": "2025-04-30T03:07:43.937616",
     "exception": false,
     "start_time": "2025-04-30T03:07:43.917811",
     "status": "completed"
    },
    "tags": []
   },
   "outputs": [
    {
     "data": {
      "text/plain": [
       "(tensor([[0.3532, 0.3359, 0.3331, 0.7126, 0.3079]]),\n",
       " tensor([[5.3532, 5.3359, 5.3331, 5.7126, 5.3079]]))"
      ]
     },
     "execution_count": 13,
     "metadata": {},
     "output_type": "execute_result"
    }
   ],
   "source": [
    "rand = torch.rand(size=(1,5))\n",
    "rand, rand + 5"
   ]
  },
  {
   "cell_type": "code",
   "execution_count": 14,
   "id": "77b40cf1",
   "metadata": {
    "execution": {
     "iopub.execute_input": "2025-04-30T03:07:43.953592Z",
     "iopub.status.busy": "2025-04-30T03:07:43.953309Z",
     "iopub.status.idle": "2025-04-30T03:07:43.960835Z",
     "shell.execute_reply": "2025-04-30T03:07:43.960009Z"
    },
    "papermill": {
     "duration": 0.017248,
     "end_time": "2025-04-30T03:07:43.962361",
     "exception": false,
     "start_time": "2025-04-30T03:07:43.945113",
     "status": "completed"
    },
    "tags": []
   },
   "outputs": [
    {
     "data": {
      "text/plain": [
       "(tensor([[1., 1.],\n",
       "         [1., 1.]]),\n",
       " tensor([[2., 2.],\n",
       "         [2., 2.]]))"
      ]
     },
     "execution_count": 14,
     "metadata": {},
     "output_type": "execute_result"
    }
   ],
   "source": [
    "ones = torch.ones(size=(2,2))\n",
    "ones, ones * 2"
   ]
  },
  {
   "cell_type": "code",
   "execution_count": 15,
   "id": "9e5e1357",
   "metadata": {
    "execution": {
     "iopub.execute_input": "2025-04-30T03:07:43.978809Z",
     "iopub.status.busy": "2025-04-30T03:07:43.978281Z",
     "iopub.status.idle": "2025-04-30T03:07:43.987891Z",
     "shell.execute_reply": "2025-04-30T03:07:43.987031Z"
    },
    "papermill": {
     "duration": 0.019268,
     "end_time": "2025-04-30T03:07:43.989228",
     "exception": false,
     "start_time": "2025-04-30T03:07:43.969960",
     "status": "completed"
    },
    "tags": []
   },
   "outputs": [
    {
     "data": {
      "text/plain": [
       "(tensor([[0., 0.],\n",
       "         [0., 0.]]),\n",
       " tensor([[-10., -10.],\n",
       "         [-10., -10.]]))"
      ]
     },
     "execution_count": 15,
     "metadata": {},
     "output_type": "execute_result"
    }
   ],
   "source": [
    "zeros = torch.zeros_like(input=ones)\n",
    "zeros, zeros - 10"
   ]
  },
  {
   "cell_type": "code",
   "execution_count": 16,
   "id": "b72fff2a",
   "metadata": {
    "execution": {
     "iopub.execute_input": "2025-04-30T03:07:44.005580Z",
     "iopub.status.busy": "2025-04-30T03:07:44.005299Z",
     "iopub.status.idle": "2025-04-30T03:07:44.012158Z",
     "shell.execute_reply": "2025-04-30T03:07:44.011302Z"
    },
    "papermill": {
     "duration": 0.016526,
     "end_time": "2025-04-30T03:07:44.013402",
     "exception": false,
     "start_time": "2025-04-30T03:07:43.996876",
     "status": "completed"
    },
    "tags": []
   },
   "outputs": [
    {
     "data": {
      "text/plain": [
       "tensor([[2., 2.],\n",
       "        [2., 2.]])"
      ]
     },
     "execution_count": 16,
     "metadata": {},
     "output_type": "execute_result"
    }
   ],
   "source": [
    "ones * (zeros + 2)"
   ]
  },
  {
   "cell_type": "code",
   "execution_count": 17,
   "id": "95c26cf4",
   "metadata": {
    "execution": {
     "iopub.execute_input": "2025-04-30T03:07:44.090305Z",
     "iopub.status.busy": "2025-04-30T03:07:44.089555Z",
     "iopub.status.idle": "2025-04-30T03:07:44.095894Z",
     "shell.execute_reply": "2025-04-30T03:07:44.095041Z"
    },
    "papermill": {
     "duration": 0.016257,
     "end_time": "2025-04-30T03:07:44.097305",
     "exception": false,
     "start_time": "2025-04-30T03:07:44.081048",
     "status": "completed"
    },
    "tags": []
   },
   "outputs": [
    {
     "data": {
      "text/plain": [
       "(torch.Size([3]), 1)"
      ]
     },
     "execution_count": 17,
     "metadata": {},
     "output_type": "execute_result"
    }
   ],
   "source": [
    "# matrix mult.\n",
    "# inner dims must match\n",
    "# (3, 2) @ (3, 2) won't work\n",
    "# (2, 3) @ (3, 2) will work\n",
    "\n",
    "# output will have outer dims as new dims\n",
    "# (2, 3) @ (3, 2) -> (2, 2)\n",
    "\n",
    "tensor = torch.tensor([1,2,3])\n",
    "tensor.shape, tensor.ndim"
   ]
  },
  {
   "cell_type": "code",
   "execution_count": 18,
   "id": "dccc8955",
   "metadata": {
    "execution": {
     "iopub.execute_input": "2025-04-30T03:07:44.114159Z",
     "iopub.status.busy": "2025-04-30T03:07:44.113358Z",
     "iopub.status.idle": "2025-04-30T03:07:44.128222Z",
     "shell.execute_reply": "2025-04-30T03:07:44.127260Z"
    },
    "papermill": {
     "duration": 0.02489,
     "end_time": "2025-04-30T03:07:44.129880",
     "exception": false,
     "start_time": "2025-04-30T03:07:44.104990",
     "status": "completed"
    },
    "tags": []
   },
   "outputs": [
    {
     "data": {
      "text/plain": [
       "(tensor([1, 4, 9]), tensor(14), tensor(14))"
      ]
     },
     "execution_count": 18,
     "metadata": {},
     "output_type": "execute_result"
    }
   ],
   "source": [
    "# element wise vs matrix mult.\n",
    "# matrix mult. adds together at end\n",
    "tensor * tensor, tensor @ tensor, tensor.matmul(tensor) # (3) and (3) match"
   ]
  },
  {
   "cell_type": "code",
   "execution_count": 19,
   "id": "ce1ae574",
   "metadata": {
    "execution": {
     "iopub.execute_input": "2025-04-30T03:07:44.147748Z",
     "iopub.status.busy": "2025-04-30T03:07:44.147132Z",
     "iopub.status.idle": "2025-04-30T03:07:44.154893Z",
     "shell.execute_reply": "2025-04-30T03:07:44.154066Z"
    },
    "papermill": {
     "duration": 0.018181,
     "end_time": "2025-04-30T03:07:44.156199",
     "exception": false,
     "start_time": "2025-04-30T03:07:44.138018",
     "status": "completed"
    },
    "tags": []
   },
   "outputs": [
    {
     "name": "stdout",
     "output_type": "stream",
     "text": [
      "CPU times: user 204 µs, sys: 44 µs, total: 248 µs\n",
      "Wall time: 207 µs\n"
     ]
    },
    {
     "data": {
      "text/plain": [
       "tensor(14)"
      ]
     },
     "execution_count": 19,
     "metadata": {},
     "output_type": "execute_result"
    }
   ],
   "source": [
    "%%time\n",
    "tensor @ tensor"
   ]
  },
  {
   "cell_type": "code",
   "execution_count": 20,
   "id": "71aa4586",
   "metadata": {
    "execution": {
     "iopub.execute_input": "2025-04-30T03:07:44.173186Z",
     "iopub.status.busy": "2025-04-30T03:07:44.172913Z",
     "iopub.status.idle": "2025-04-30T03:07:44.179614Z",
     "shell.execute_reply": "2025-04-30T03:07:44.178625Z"
    },
    "papermill": {
     "duration": 0.016828,
     "end_time": "2025-04-30T03:07:44.181046",
     "exception": false,
     "start_time": "2025-04-30T03:07:44.164218",
     "status": "completed"
    },
    "tags": []
   },
   "outputs": [
    {
     "name": "stdout",
     "output_type": "stream",
     "text": [
      "CPU times: user 0 ns, sys: 775 µs, total: 775 µs\n",
      "Wall time: 655 µs\n"
     ]
    },
    {
     "data": {
      "text/plain": [
       "tensor(14)"
      ]
     },
     "execution_count": 20,
     "metadata": {},
     "output_type": "execute_result"
    }
   ],
   "source": [
    "%%time\n",
    "tensor.matmul(tensor) # faster"
   ]
  },
  {
   "cell_type": "code",
   "execution_count": 21,
   "id": "7ca2b97a",
   "metadata": {
    "execution": {
     "iopub.execute_input": "2025-04-30T03:07:44.198748Z",
     "iopub.status.busy": "2025-04-30T03:07:44.198355Z",
     "iopub.status.idle": "2025-04-30T03:07:44.215857Z",
     "shell.execute_reply": "2025-04-30T03:07:44.214694Z"
    },
    "papermill": {
     "duration": 0.02819,
     "end_time": "2025-04-30T03:07:44.217422",
     "exception": false,
     "start_time": "2025-04-30T03:07:44.189232",
     "status": "completed"
    },
    "tags": []
   },
   "outputs": [
    {
     "data": {
      "text/plain": [
       "(tensor([[1., 2.],\n",
       "         [3., 4.],\n",
       "         [5., 6.]]),\n",
       " tensor([[ 7.,  8.,  9.],\n",
       "         [10., 11., 12.]]),\n",
       " torch.Size([3, 2]),\n",
       " torch.Size([2, 3]))"
      ]
     },
     "execution_count": 21,
     "metadata": {},
     "output_type": "execute_result"
    }
   ],
   "source": [
    "A = torch.tensor([[1, 2],\n",
    "                         [3, 4],\n",
    "                         [5, 6]], dtype=torch.float32)\n",
    "\n",
    "B = torch.tensor([[7, 10],\n",
    "                         [8, 11], \n",
    "                         [9, 12]], dtype=torch.float32)\n",
    "\n",
    "A, B.T, A.shape, torch.transpose(B, 0, 1).shape # transpose switches dims."
   ]
  },
  {
   "cell_type": "code",
   "execution_count": 22,
   "id": "f8bc9863",
   "metadata": {
    "execution": {
     "iopub.execute_input": "2025-04-30T03:07:44.235661Z",
     "iopub.status.busy": "2025-04-30T03:07:44.235291Z",
     "iopub.status.idle": "2025-04-30T03:07:44.255514Z",
     "shell.execute_reply": "2025-04-30T03:07:44.254693Z"
    },
    "papermill": {
     "duration": 0.030899,
     "end_time": "2025-04-30T03:07:44.257018",
     "exception": false,
     "start_time": "2025-04-30T03:07:44.226119",
     "status": "completed"
    },
    "tags": []
   },
   "outputs": [
    {
     "data": {
      "text/plain": [
       "tensor([[ 27.,  30.,  33.],\n",
       "        [ 61.,  68.,  75.],\n",
       "        [ 95., 106., 117.]])"
      ]
     },
     "execution_count": 22,
     "metadata": {},
     "output_type": "execute_result"
    }
   ],
   "source": [
    "torch.mm(A, B.T) # matrix mult."
   ]
  },
  {
   "cell_type": "code",
   "execution_count": 23,
   "id": "2ef089fb",
   "metadata": {
    "execution": {
     "iopub.execute_input": "2025-04-30T03:07:44.274593Z",
     "iopub.status.busy": "2025-04-30T03:07:44.274336Z",
     "iopub.status.idle": "2025-04-30T03:07:44.299320Z",
     "shell.execute_reply": "2025-04-30T03:07:44.298318Z"
    },
    "papermill": {
     "duration": 0.035471,
     "end_time": "2025-04-30T03:07:44.300810",
     "exception": false,
     "start_time": "2025-04-30T03:07:44.265339",
     "status": "completed"
    },
    "tags": []
   },
   "outputs": [
    {
     "name": "stdout",
     "output_type": "stream",
     "text": [
      "Input shape: torch.Size([2, 3])\n",
      "\n",
      "Output:\n",
      "tensor([[0.9332, 0.8805, 3.0149, 1.5545, 1.8186, 2.0634],\n",
      "        [1.7186, 1.4009, 3.5818, 1.7408, 2.6017, 2.5123]],\n",
      "       grad_fn=<AddmmBackward0>)\n",
      "\n",
      "Output shape: torch.Size([2, 6])\n"
     ]
    }
   ],
   "source": [
    "# Linear layer\n",
    "# m x n => m input features to n output neurons\n",
    "\n",
    "torch.manual_seed(42)\n",
    "\n",
    "linear = torch.nn.Linear(in_features=3, out_features=6)\n",
    "\n",
    "x = A.T # 2x3 (2 inputs of size 3)\n",
    "output = linear(x)\n",
    "\n",
    "print(f\"Input shape: {x.shape}\\n\")\n",
    "print(f\"Output:\\n{output}\\n\\nOutput shape: {output.shape}\")\n",
    "# output = 2x3 @ 3x6 => 2x6 (2 outputs with 6 features)"
   ]
  },
  {
   "cell_type": "code",
   "execution_count": 24,
   "id": "64dcb5f9",
   "metadata": {
    "execution": {
     "iopub.execute_input": "2025-04-30T03:07:44.318985Z",
     "iopub.status.busy": "2025-04-30T03:07:44.318216Z",
     "iopub.status.idle": "2025-04-30T03:07:44.327280Z",
     "shell.execute_reply": "2025-04-30T03:07:44.326339Z"
    },
    "papermill": {
     "duration": 0.019522,
     "end_time": "2025-04-30T03:07:44.328706",
     "exception": false,
     "start_time": "2025-04-30T03:07:44.309184",
     "status": "completed"
    },
    "tags": []
   },
   "outputs": [
    {
     "data": {
      "text/plain": [
       "(tensor(0), tensor(90), tensor(45.), tensor(450))"
      ]
     },
     "execution_count": 24,
     "metadata": {},
     "output_type": "execute_result"
    }
   ],
   "source": [
    "# aggregation\n",
    "\n",
    "x = torch.arange(0, 100, 10)\n",
    "x.min(), x.max(), x.type(torch.float32).mean(), x.sum() # scalars"
   ]
  },
  {
   "cell_type": "code",
   "execution_count": 25,
   "id": "ee3b3795",
   "metadata": {
    "execution": {
     "iopub.execute_input": "2025-04-30T03:07:44.346572Z",
     "iopub.status.busy": "2025-04-30T03:07:44.346311Z",
     "iopub.status.idle": "2025-04-30T03:07:44.354066Z",
     "shell.execute_reply": "2025-04-30T03:07:44.353260Z"
    },
    "papermill": {
     "duration": 0.018206,
     "end_time": "2025-04-30T03:07:44.355379",
     "exception": false,
     "start_time": "2025-04-30T03:07:44.337173",
     "status": "completed"
    },
    "tags": []
   },
   "outputs": [
    {
     "data": {
      "text/plain": [
       "(tensor(9), tensor(0))"
      ]
     },
     "execution_count": 25,
     "metadata": {},
     "output_type": "execute_result"
    }
   ],
   "source": [
    "x.argmax(), x.argmin() # positional min/max"
   ]
  },
  {
   "cell_type": "code",
   "execution_count": 26,
   "id": "e4eaf32c",
   "metadata": {
    "execution": {
     "iopub.execute_input": "2025-04-30T03:07:44.373673Z",
     "iopub.status.busy": "2025-04-30T03:07:44.373369Z",
     "iopub.status.idle": "2025-04-30T03:07:44.379659Z",
     "shell.execute_reply": "2025-04-30T03:07:44.378866Z"
    },
    "papermill": {
     "duration": 0.016974,
     "end_time": "2025-04-30T03:07:44.381051",
     "exception": false,
     "start_time": "2025-04-30T03:07:44.364077",
     "status": "completed"
    },
    "tags": []
   },
   "outputs": [
    {
     "data": {
      "text/plain": [
       "(tensor([1, 2, 3, 4, 5, 6, 7]), torch.Size([7]))"
      ]
     },
     "execution_count": 26,
     "metadata": {},
     "output_type": "execute_result"
    }
   ],
   "source": [
    "# reshaping, stacking, squeezing, unsqueezing\n",
    "\n",
    "x = torch.arange(1, 8)\n",
    "x, x.shape"
   ]
  },
  {
   "cell_type": "code",
   "execution_count": 27,
   "id": "ca8a2c97",
   "metadata": {
    "execution": {
     "iopub.execute_input": "2025-04-30T03:07:44.399663Z",
     "iopub.status.busy": "2025-04-30T03:07:44.399352Z",
     "iopub.status.idle": "2025-04-30T03:07:44.406546Z",
     "shell.execute_reply": "2025-04-30T03:07:44.405547Z"
    },
    "papermill": {
     "duration": 0.018577,
     "end_time": "2025-04-30T03:07:44.408033",
     "exception": false,
     "start_time": "2025-04-30T03:07:44.389456",
     "status": "completed"
    },
    "tags": []
   },
   "outputs": [
    {
     "data": {
      "text/plain": [
       "(tensor([[1, 2, 3, 4, 5, 6, 7]]), torch.Size([1, 7]))"
      ]
     },
     "execution_count": 27,
     "metadata": {},
     "output_type": "execute_result"
    }
   ],
   "source": [
    "x_reshaped = x.reshape(1, 7) # added extra dimension\n",
    "x_reshaped, x_reshaped.shape # creates new copy without sharing data (copy)"
   ]
  },
  {
   "cell_type": "code",
   "execution_count": 28,
   "id": "586a8fd9",
   "metadata": {
    "execution": {
     "iopub.execute_input": "2025-04-30T03:07:44.427318Z",
     "iopub.status.busy": "2025-04-30T03:07:44.426675Z",
     "iopub.status.idle": "2025-04-30T03:07:44.432573Z",
     "shell.execute_reply": "2025-04-30T03:07:44.431935Z"
    },
    "papermill": {
     "duration": 0.017148,
     "end_time": "2025-04-30T03:07:44.434021",
     "exception": false,
     "start_time": "2025-04-30T03:07:44.416873",
     "status": "completed"
    },
    "tags": []
   },
   "outputs": [
    {
     "data": {
      "text/plain": [
       "(tensor([[1, 2, 3, 4, 5, 6, 7]]), torch.Size([1, 7]))"
      ]
     },
     "execution_count": 28,
     "metadata": {},
     "output_type": "execute_result"
    }
   ],
   "source": [
    "z = x.view(1, 7)\n",
    "z, z.shape # view reshapes but shares data (reference)"
   ]
  },
  {
   "cell_type": "code",
   "execution_count": 29,
   "id": "d05cfd22",
   "metadata": {
    "execution": {
     "iopub.execute_input": "2025-04-30T03:07:44.452911Z",
     "iopub.status.busy": "2025-04-30T03:07:44.452247Z",
     "iopub.status.idle": "2025-04-30T03:07:44.463467Z",
     "shell.execute_reply": "2025-04-30T03:07:44.462616Z"
    },
    "papermill": {
     "duration": 0.022147,
     "end_time": "2025-04-30T03:07:44.464938",
     "exception": false,
     "start_time": "2025-04-30T03:07:44.442791",
     "status": "completed"
    },
    "tags": []
   },
   "outputs": [
    {
     "data": {
      "text/plain": [
       "(tensor([[5, 2, 3, 4, 5, 6, 7]]), tensor([5, 2, 3, 4, 5, 6, 7]))"
      ]
     },
     "execution_count": 29,
     "metadata": {},
     "output_type": "execute_result"
    }
   ],
   "source": [
    "z[:, 0] = 5\n",
    "z, x"
   ]
  },
  {
   "cell_type": "code",
   "execution_count": 30,
   "id": "81e35747",
   "metadata": {
    "execution": {
     "iopub.execute_input": "2025-04-30T03:07:44.483615Z",
     "iopub.status.busy": "2025-04-30T03:07:44.483087Z",
     "iopub.status.idle": "2025-04-30T03:07:44.489537Z",
     "shell.execute_reply": "2025-04-30T03:07:44.488699Z"
    },
    "papermill": {
     "duration": 0.017266,
     "end_time": "2025-04-30T03:07:44.490957",
     "exception": false,
     "start_time": "2025-04-30T03:07:44.473691",
     "status": "completed"
    },
    "tags": []
   },
   "outputs": [
    {
     "data": {
      "text/plain": [
       "tensor([[5, 5, 5],\n",
       "        [2, 2, 2],\n",
       "        [3, 3, 3],\n",
       "        [4, 4, 4],\n",
       "        [5, 5, 5],\n",
       "        [6, 6, 6],\n",
       "        [7, 7, 7]])"
      ]
     },
     "execution_count": 30,
     "metadata": {},
     "output_type": "execute_result"
    }
   ],
   "source": [
    "x_stacked = torch.stack([x,x,x], dim=1) # zero concats; 1 concats element wise\n",
    "x_stacked"
   ]
  },
  {
   "cell_type": "code",
   "execution_count": 31,
   "id": "860f2fbc",
   "metadata": {
    "execution": {
     "iopub.execute_input": "2025-04-30T03:07:44.509684Z",
     "iopub.status.busy": "2025-04-30T03:07:44.509356Z",
     "iopub.status.idle": "2025-04-30T03:07:44.516426Z",
     "shell.execute_reply": "2025-04-30T03:07:44.515473Z"
    },
    "papermill": {
     "duration": 0.018159,
     "end_time": "2025-04-30T03:07:44.517971",
     "exception": false,
     "start_time": "2025-04-30T03:07:44.499812",
     "status": "completed"
    },
    "tags": []
   },
   "outputs": [
    {
     "name": "stdout",
     "output_type": "stream",
     "text": [
      "tensor([[5, 2, 3, 4, 5, 6, 7]]) torch.Size([1, 7])\n",
      "tensor([5, 2, 3, 4, 5, 6, 7]) torch.Size([7])\n",
      "tensor([[5],\n",
      "        [2],\n",
      "        [3],\n",
      "        [4],\n",
      "        [5],\n",
      "        [6],\n",
      "        [7]]) torch.Size([7, 1])\n"
     ]
    }
   ],
   "source": [
    "print(x_reshaped, x_reshaped.shape)\n",
    "\n",
    "x_squeezed = x_reshaped.squeeze()\n",
    "print(x_squeezed, x_squeezed.shape) # squeeze to a single dimension\n",
    "x_reshaped = x_squeezed.unsqueeze(dim=1) # add 1 at certain dimension\n",
    "print(x_reshaped, x_reshaped.shape)\n"
   ]
  },
  {
   "cell_type": "code",
   "execution_count": 32,
   "id": "8e6ab6af",
   "metadata": {
    "execution": {
     "iopub.execute_input": "2025-04-30T03:07:44.537125Z",
     "iopub.status.busy": "2025-04-30T03:07:44.536800Z",
     "iopub.status.idle": "2025-04-30T03:07:44.544394Z",
     "shell.execute_reply": "2025-04-30T03:07:44.543683Z"
    },
    "papermill": {
     "duration": 0.018688,
     "end_time": "2025-04-30T03:07:44.545710",
     "exception": false,
     "start_time": "2025-04-30T03:07:44.527022",
     "status": "completed"
    },
    "tags": []
   },
   "outputs": [
    {
     "data": {
      "text/plain": [
       "(torch.Size([224, 224, 3]), torch.Size([3, 224, 224]))"
      ]
     },
     "execution_count": 32,
     "metadata": {},
     "output_type": "execute_result"
    }
   ],
   "source": [
    "x_original = torch.rand(size=(224, 224, 3))\n",
    "x_permuted = x_original.permute(2, 0, 1) # returns view\n",
    "x_original.shape, x_permuted.shape"
   ]
  },
  {
   "cell_type": "code",
   "execution_count": 33,
   "id": "f6a74907",
   "metadata": {
    "execution": {
     "iopub.execute_input": "2025-04-30T03:07:44.564869Z",
     "iopub.status.busy": "2025-04-30T03:07:44.564418Z",
     "iopub.status.idle": "2025-04-30T03:07:44.571104Z",
     "shell.execute_reply": "2025-04-30T03:07:44.570171Z"
    },
    "papermill": {
     "duration": 0.017923,
     "end_time": "2025-04-30T03:07:44.572504",
     "exception": false,
     "start_time": "2025-04-30T03:07:44.554581",
     "status": "completed"
    },
    "tags": []
   },
   "outputs": [
    {
     "data": {
      "text/plain": [
       "tensor([[[1, 2, 3],\n",
       "         [4, 5, 6],\n",
       "         [7, 8, 9]]])"
      ]
     },
     "execution_count": 33,
     "metadata": {},
     "output_type": "execute_result"
    }
   ],
   "source": [
    "# indexing\n",
    "\n",
    "x = torch.arange(1, 10).reshape(1, 3, 3)\n",
    "x"
   ]
  },
  {
   "cell_type": "code",
   "execution_count": 34,
   "id": "0704f6d5",
   "metadata": {
    "execution": {
     "iopub.execute_input": "2025-04-30T03:07:44.591762Z",
     "iopub.status.busy": "2025-04-30T03:07:44.591446Z",
     "iopub.status.idle": "2025-04-30T03:07:44.597930Z",
     "shell.execute_reply": "2025-04-30T03:07:44.597047Z"
    },
    "papermill": {
     "duration": 0.017767,
     "end_time": "2025-04-30T03:07:44.599348",
     "exception": false,
     "start_time": "2025-04-30T03:07:44.581581",
     "status": "completed"
    },
    "tags": []
   },
   "outputs": [
    {
     "data": {
      "text/plain": [
       "tensor([[1, 2, 3]])"
      ]
     },
     "execution_count": 34,
     "metadata": {},
     "output_type": "execute_result"
    }
   ],
   "source": [
    "x[:, 0] # all values in 0th dim and 0 index in 1st dim"
   ]
  },
  {
   "cell_type": "code",
   "execution_count": 35,
   "id": "96a58856",
   "metadata": {
    "execution": {
     "iopub.execute_input": "2025-04-30T03:07:44.618413Z",
     "iopub.status.busy": "2025-04-30T03:07:44.618132Z",
     "iopub.status.idle": "2025-04-30T03:07:44.624029Z",
     "shell.execute_reply": "2025-04-30T03:07:44.623319Z"
    },
    "papermill": {
     "duration": 0.016968,
     "end_time": "2025-04-30T03:07:44.625314",
     "exception": false,
     "start_time": "2025-04-30T03:07:44.608346",
     "status": "completed"
    },
    "tags": []
   },
   "outputs": [
    {
     "data": {
      "text/plain": [
       "tensor([[2, 5, 8]])"
      ]
     },
     "execution_count": 35,
     "metadata": {},
     "output_type": "execute_result"
    }
   ],
   "source": [
    "x[:, :, 1] # all values in 0th and 1st but get 2nd index"
   ]
  },
  {
   "cell_type": "code",
   "execution_count": 36,
   "id": "0e2c51ff",
   "metadata": {
    "execution": {
     "iopub.execute_input": "2025-04-30T03:07:44.644698Z",
     "iopub.status.busy": "2025-04-30T03:07:44.644395Z",
     "iopub.status.idle": "2025-04-30T03:07:44.781544Z",
     "shell.execute_reply": "2025-04-30T03:07:44.780583Z"
    },
    "papermill": {
     "duration": 0.148735,
     "end_time": "2025-04-30T03:07:44.783181",
     "exception": false,
     "start_time": "2025-04-30T03:07:44.634446",
     "status": "completed"
    },
    "tags": []
   },
   "outputs": [
    {
     "name": "stdout",
     "output_type": "stream",
     "text": [
      "/bin/bash: line 1: nvidia-smi: command not found\r\n"
     ]
    },
    {
     "data": {
      "text/plain": [
       "False"
      ]
     },
     "execution_count": 36,
     "metadata": {},
     "output_type": "execute_result"
    }
   ],
   "source": [
    "!nvidia-smi\n",
    "torch.cuda.is_available()"
   ]
  },
  {
   "cell_type": "code",
   "execution_count": 37,
   "id": "ab01c6e7",
   "metadata": {
    "execution": {
     "iopub.execute_input": "2025-04-30T03:07:44.803594Z",
     "iopub.status.busy": "2025-04-30T03:07:44.803283Z",
     "iopub.status.idle": "2025-04-30T03:07:44.808756Z",
     "shell.execute_reply": "2025-04-30T03:07:44.807901Z"
    },
    "papermill": {
     "duration": 0.017221,
     "end_time": "2025-04-30T03:07:44.810215",
     "exception": false,
     "start_time": "2025-04-30T03:07:44.792994",
     "status": "completed"
    },
    "tags": []
   },
   "outputs": [],
   "source": [
    "if torch.cuda.is_available():\n",
    "    device = \"cuda\" # Use NVIDIA GPU (if available)\n",
    "elif torch.backends.mps.is_available():\n",
    "    device = \"mps\" # Use Apple Silicon GPU (if available)\n",
    "else:\n",
    "    device = \"cpu\" # Default to CPU if no GPU is available"
   ]
  },
  {
   "cell_type": "code",
   "execution_count": 38,
   "id": "c4c9e6e8",
   "metadata": {
    "execution": {
     "iopub.execute_input": "2025-04-30T03:07:44.829739Z",
     "iopub.status.busy": "2025-04-30T03:07:44.829364Z",
     "iopub.status.idle": "2025-04-30T03:07:44.834990Z",
     "shell.execute_reply": "2025-04-30T03:07:44.834294Z"
    },
    "papermill": {
     "duration": 0.016788,
     "end_time": "2025-04-30T03:07:44.836228",
     "exception": false,
     "start_time": "2025-04-30T03:07:44.819440",
     "status": "completed"
    },
    "tags": []
   },
   "outputs": [
    {
     "data": {
      "text/plain": [
       "False"
      ]
     },
     "execution_count": 38,
     "metadata": {},
     "output_type": "execute_result"
    }
   ],
   "source": [
    "torch.backends.mps.is_available()"
   ]
  },
  {
   "cell_type": "markdown",
   "id": "94a4cb3b",
   "metadata": {
    "papermill": {
     "duration": 0.008867,
     "end_time": "2025-04-30T03:07:44.854411",
     "exception": false,
     "start_time": "2025-04-30T03:07:44.845544",
     "status": "completed"
    },
    "tags": []
   },
   "source": [
    "## Review\n",
    "\n",
    "- scalar, tensor, etc. (0th, 1st, 2nd dims)\n",
    "- shape, ndim, dtype, device (tensor info)\n",
    "- matmul (matrix mult)\n",
    "- count the brackets on one side for dims + count items for length\n",
    "- view, reshape (reshaping tensors)\n",
    "- squeeze, unsqueeze (all dims of size 1 removed or add 1 dim of size 1)\n",
    "- nn.Linear - rows = weights for one neuron\n",
    "- (mxn weight matrix => m inputs and n outputs)\n",
    "- ones, zeroes\n",
    "- rand\n",
    "- arange\n",
    "- stack (on dim)\n",
    "- transpose, permute (to change dim order)"
   ]
  },
  {
   "cell_type": "markdown",
   "id": "f46d8fd5",
   "metadata": {
    "papermill": {
     "duration": 0.008885,
     "end_time": "2025-04-30T03:07:44.872424",
     "exception": false,
     "start_time": "2025-04-30T03:07:44.863539",
     "status": "completed"
    },
    "tags": []
   },
   "source": [
    "# Workflow Fundamentals"
   ]
  },
  {
   "cell_type": "code",
   "execution_count": null,
   "id": "f3b84601",
   "metadata": {
    "papermill": {
     "duration": 0.008894,
     "end_time": "2025-04-30T03:07:44.890447",
     "exception": false,
     "start_time": "2025-04-30T03:07:44.881553",
     "status": "completed"
    },
    "tags": []
   },
   "outputs": [],
   "source": []
  }
 ],
 "metadata": {
  "kaggle": {
   "accelerator": "none",
   "dataSources": [],
   "dockerImageVersionId": 31012,
   "isGpuEnabled": false,
   "isInternetEnabled": true,
   "language": "python",
   "sourceType": "notebook"
  },
  "kernelspec": {
   "display_name": "Python 3",
   "language": "python",
   "name": "python3"
  },
  "language_info": {
   "codemirror_mode": {
    "name": "ipython",
    "version": 3
   },
   "file_extension": ".py",
   "mimetype": "text/x-python",
   "name": "python",
   "nbconvert_exporter": "python",
   "pygments_lexer": "ipython3",
   "version": "3.11.11"
  },
  "papermill": {
   "default_parameters": {},
   "duration": 16.155638,
   "end_time": "2025-04-30T03:07:47.509832",
   "environment_variables": {},
   "exception": null,
   "input_path": "__notebook__.ipynb",
   "output_path": "__notebook__.ipynb",
   "parameters": {},
   "start_time": "2025-04-30T03:07:31.354194",
   "version": "2.6.0"
  }
 },
 "nbformat": 4,
 "nbformat_minor": 5
}
