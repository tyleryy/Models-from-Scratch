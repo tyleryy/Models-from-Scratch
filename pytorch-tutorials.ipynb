{
 "cells": [
  {
   "cell_type": "code",
   "execution_count": 1,
   "id": "bd2f3a3d",
   "metadata": {
    "_cell_guid": "b1076dfc-b9ad-4769-8c92-a6c4dae69d19",
    "_uuid": "8f2839f25d086af736a60e9eeb907d3b93b6e0e5",
    "execution": {
     "iopub.execute_input": "2025-04-29T22:14:01.747526Z",
     "iopub.status.busy": "2025-04-29T22:14:01.747205Z",
     "iopub.status.idle": "2025-04-29T22:14:03.934636Z",
     "shell.execute_reply": "2025-04-29T22:14:03.933629Z"
    },
    "papermill": {
     "duration": 2.197935,
     "end_time": "2025-04-29T22:14:03.936423",
     "exception": false,
     "start_time": "2025-04-29T22:14:01.738488",
     "status": "completed"
    },
    "tags": []
   },
   "outputs": [],
   "source": [
    "# This Python 3 environment comes with many helpful analytics libraries installed\n",
    "# It is defined by the kaggle/python Docker image: https://github.com/kaggle/docker-python\n",
    "# For example, here's several helpful packages to load\n",
    "\n",
    "import numpy as np # linear algebra\n",
    "import pandas as pd # data processing, CSV file I/O (e.g. pd.read_csv)\n",
    "\n",
    "# Input data files are available in the read-only \"../input/\" directory\n",
    "# For example, running this (by clicking run or pressing Shift+Enter) will list all files under the input directory\n",
    "\n",
    "import os\n",
    "for dirname, _, filenames in os.walk('/kaggle/input'):\n",
    "    for filename in filenames:\n",
    "        print(os.path.join(dirname, filename))\n",
    "\n",
    "# You can write up to 20GB to the current directory (/kaggle/working/) that gets preserved as output when you create a version using \"Save & Run All\" \n",
    "# You can also write temporary files to /kaggle/temp/, but they won't be saved outside of the current session"
   ]
  },
  {
   "cell_type": "markdown",
   "id": "75832ab7",
   "metadata": {
    "papermill": {
     "duration": 0.007601,
     "end_time": "2025-04-29T22:14:03.951070",
     "exception": false,
     "start_time": "2025-04-29T22:14:03.943469",
     "status": "completed"
    },
    "tags": []
   },
   "source": [
    "Following thru this guide: https://www.learnpytorch.io/"
   ]
  },
  {
   "cell_type": "markdown",
   "id": "9faf051c",
   "metadata": {
    "papermill": {
     "duration": 0.006283,
     "end_time": "2025-04-29T22:14:03.963829",
     "exception": false,
     "start_time": "2025-04-29T22:14:03.957546",
     "status": "completed"
    },
    "tags": []
   },
   "source": [
    "# Fundamentals"
   ]
  },
  {
   "cell_type": "code",
   "execution_count": 2,
   "id": "f4f9042b",
   "metadata": {
    "execution": {
     "iopub.execute_input": "2025-04-29T22:14:03.978449Z",
     "iopub.status.busy": "2025-04-29T22:14:03.978006Z",
     "iopub.status.idle": "2025-04-29T22:14:10.578746Z",
     "shell.execute_reply": "2025-04-29T22:14:10.577726Z"
    },
    "papermill": {
     "duration": 6.610183,
     "end_time": "2025-04-29T22:14:10.580502",
     "exception": false,
     "start_time": "2025-04-29T22:14:03.970319",
     "status": "completed"
    },
    "tags": []
   },
   "outputs": [
    {
     "data": {
      "text/plain": [
       "'2.5.1+cu124'"
      ]
     },
     "execution_count": 2,
     "metadata": {},
     "output_type": "execute_result"
    }
   ],
   "source": [
    "import torch\n",
    "torch.__version__"
   ]
  },
  {
   "cell_type": "code",
   "execution_count": 3,
   "id": "13373975",
   "metadata": {
    "execution": {
     "iopub.execute_input": "2025-04-29T22:14:10.595954Z",
     "iopub.status.busy": "2025-04-29T22:14:10.595414Z",
     "iopub.status.idle": "2025-04-29T22:14:10.666520Z",
     "shell.execute_reply": "2025-04-29T22:14:10.665553Z"
    },
    "papermill": {
     "duration": 0.080569,
     "end_time": "2025-04-29T22:14:10.668094",
     "exception": false,
     "start_time": "2025-04-29T22:14:10.587525",
     "status": "completed"
    },
    "tags": []
   },
   "outputs": [
    {
     "data": {
      "text/plain": [
       "(tensor(8), 0, 8)"
      ]
     },
     "execution_count": 3,
     "metadata": {},
     "output_type": "execute_result"
    }
   ],
   "source": [
    "# scalar\n",
    "scalar = torch.tensor(8) # zero-dim tensor\n",
    "scalar, scalar.ndim, scalar.item()"
   ]
  },
  {
   "cell_type": "code",
   "execution_count": 4,
   "id": "2ad9b554",
   "metadata": {
    "execution": {
     "iopub.execute_input": "2025-04-29T22:14:10.683318Z",
     "iopub.status.busy": "2025-04-29T22:14:10.683020Z",
     "iopub.status.idle": "2025-04-29T22:14:10.690071Z",
     "shell.execute_reply": "2025-04-29T22:14:10.689237Z"
    },
    "papermill": {
     "duration": 0.01654,
     "end_time": "2025-04-29T22:14:10.691502",
     "exception": false,
     "start_time": "2025-04-29T22:14:10.674962",
     "status": "completed"
    },
    "tags": []
   },
   "outputs": [
    {
     "data": {
      "text/plain": [
       "(tensor([6, 7]), 1, torch.Size([2]))"
      ]
     },
     "execution_count": 4,
     "metadata": {},
     "output_type": "execute_result"
    }
   ],
   "source": [
    "# vector\n",
    "vector = torch.tensor([6,7]) # single-dim\n",
    "vector, vector.ndim, vector.shape # length 2 single dim"
   ]
  },
  {
   "cell_type": "code",
   "execution_count": 5,
   "id": "4388dbd3",
   "metadata": {
    "execution": {
     "iopub.execute_input": "2025-04-29T22:14:10.706268Z",
     "iopub.status.busy": "2025-04-29T22:14:10.705955Z",
     "iopub.status.idle": "2025-04-29T22:14:10.715300Z",
     "shell.execute_reply": "2025-04-29T22:14:10.714167Z"
    },
    "papermill": {
     "duration": 0.018602,
     "end_time": "2025-04-29T22:14:10.716960",
     "exception": false,
     "start_time": "2025-04-29T22:14:10.698358",
     "status": "completed"
    },
    "tags": []
   },
   "outputs": [
    {
     "data": {
      "text/plain": [
       "(tensor([[ 7,  8],\n",
       "         [ 9, 10]]),\n",
       " torch.Size([2, 2]))"
      ]
     },
     "execution_count": 5,
     "metadata": {},
     "output_type": "execute_result"
    }
   ],
   "source": [
    "# matrix\n",
    "mat = torch.tensor([[7,8], \n",
    "                   [9,10]])\n",
    "mat, mat.shape # each entry is dim, value is length\n",
    "# 2 dim of length 2 (2x2)"
   ]
  },
  {
   "cell_type": "code",
   "execution_count": 6,
   "id": "a6ba6f65",
   "metadata": {
    "execution": {
     "iopub.execute_input": "2025-04-29T22:14:10.732334Z",
     "iopub.status.busy": "2025-04-29T22:14:10.731497Z",
     "iopub.status.idle": "2025-04-29T22:14:10.739804Z",
     "shell.execute_reply": "2025-04-29T22:14:10.738279Z"
    },
    "papermill": {
     "duration": 0.017927,
     "end_time": "2025-04-29T22:14:10.741821",
     "exception": false,
     "start_time": "2025-04-29T22:14:10.723894",
     "status": "completed"
    },
    "tags": []
   },
   "outputs": [
    {
     "data": {
      "text/plain": [
       "(tensor([[[1, 2, 3],\n",
       "          [3, 6, 9],\n",
       "          [2, 4, 5]]]),\n",
       " torch.Size([1, 3, 3]),\n",
       " 3)"
      ]
     },
     "execution_count": 6,
     "metadata": {},
     "output_type": "execute_result"
    }
   ],
   "source": [
    "# Tensor\n",
    "TENSOR = torch.tensor([[[1, 2, 3],\n",
    "                        [3, 6, 9],\n",
    "                        [2, 4, 5]]])\n",
    "TENSOR, TENSOR.shape, TENSOR.ndim # should be 1X3X3 and ndim = 3\n",
    "# go outer to inner dim\n",
    "# first 0th, then 1st, then 2nd dim"
   ]
  },
  {
   "cell_type": "code",
   "execution_count": 7,
   "id": "80497edb",
   "metadata": {
    "execution": {
     "iopub.execute_input": "2025-04-29T22:14:10.757554Z",
     "iopub.status.busy": "2025-04-29T22:14:10.756583Z",
     "iopub.status.idle": "2025-04-29T22:14:10.835327Z",
     "shell.execute_reply": "2025-04-29T22:14:10.834275Z"
    },
    "papermill": {
     "duration": 0.087896,
     "end_time": "2025-04-29T22:14:10.836870",
     "exception": false,
     "start_time": "2025-04-29T22:14:10.748974",
     "status": "completed"
    },
    "tags": []
   },
   "outputs": [
    {
     "data": {
      "text/plain": [
       "(tensor([[[0.3299, 0.8227, 0.2750],\n",
       "          [0.1216, 0.2736, 0.8001],\n",
       "          [0.8754, 0.2825, 0.5067],\n",
       "          ...,\n",
       "          [0.1599, 0.7996, 0.6293],\n",
       "          [0.4970, 0.3876, 0.4654],\n",
       "          [0.0912, 0.7318, 0.9241]],\n",
       " \n",
       "         [[0.6646, 0.0618, 0.3173],\n",
       "          [0.2950, 0.5153, 0.1084],\n",
       "          [0.9491, 0.3292, 0.7656],\n",
       "          ...,\n",
       "          [0.5298, 0.8019, 0.0568],\n",
       "          [0.0434, 0.7716, 0.3901],\n",
       "          [0.7056, 0.4075, 0.4398]],\n",
       " \n",
       "         [[0.3583, 0.9729, 0.3667],\n",
       "          [0.9465, 0.7065, 0.2496],\n",
       "          [0.7954, 0.6616, 0.3640],\n",
       "          ...,\n",
       "          [0.2957, 0.4980, 0.7990],\n",
       "          [0.6367, 0.3590, 0.3791],\n",
       "          [0.8119, 0.0027, 0.0574]],\n",
       " \n",
       "         ...,\n",
       " \n",
       "         [[0.6407, 0.6584, 0.2362],\n",
       "          [0.8329, 0.6750, 0.0744],\n",
       "          [0.2474, 0.8280, 0.3952],\n",
       "          ...,\n",
       "          [0.1457, 0.3775, 0.7545],\n",
       "          [0.8936, 0.6974, 0.6755],\n",
       "          [0.7818, 0.8658, 0.2641]],\n",
       " \n",
       "         [[0.8298, 0.9321, 0.5338],\n",
       "          [0.9327, 0.9740, 0.1942],\n",
       "          [0.3843, 0.6160, 0.0914],\n",
       "          ...,\n",
       "          [0.1898, 0.0062, 0.9614],\n",
       "          [0.6204, 0.8811, 0.9507],\n",
       "          [0.1968, 0.2135, 0.0691]],\n",
       " \n",
       "         [[0.7662, 0.1969, 0.3307],\n",
       "          [0.9902, 0.6358, 0.3729],\n",
       "          [0.5235, 0.2253, 0.3815],\n",
       "          ...,\n",
       "          [0.3747, 0.9879, 0.6502],\n",
       "          [0.5079, 0.2242, 0.6119],\n",
       "          [0.1247, 0.4889, 0.5077]]]),\n",
       " torch.float32)"
      ]
     },
     "execution_count": 7,
     "metadata": {},
     "output_type": "execute_result"
    }
   ],
   "source": [
    "# random tensors\n",
    "rand_tensor = torch.rand(size=(224, 224, 3))\n",
    "rand_tensor, rand_tensor.dtype"
   ]
  },
  {
   "cell_type": "code",
   "execution_count": 8,
   "id": "fd4fc632",
   "metadata": {
    "execution": {
     "iopub.execute_input": "2025-04-29T22:14:10.851813Z",
     "iopub.status.busy": "2025-04-29T22:14:10.851441Z",
     "iopub.status.idle": "2025-04-29T22:14:10.864962Z",
     "shell.execute_reply": "2025-04-29T22:14:10.863866Z"
    },
    "papermill": {
     "duration": 0.02283,
     "end_time": "2025-04-29T22:14:10.866623",
     "exception": false,
     "start_time": "2025-04-29T22:14:10.843793",
     "status": "completed"
    },
    "tags": []
   },
   "outputs": [
    {
     "data": {
      "text/plain": [
       "(tensor([[0., 0.],\n",
       "         [0., 0.]]),\n",
       " tensor([[1., 1.],\n",
       "         [1., 1.]]))"
      ]
     },
     "execution_count": 8,
     "metadata": {},
     "output_type": "execute_result"
    }
   ],
   "source": [
    "zeros = torch.zeros(size=(2,2))\n",
    "ones = torch.ones(size=(2,2))\n",
    "zeros, ones"
   ]
  },
  {
   "cell_type": "code",
   "execution_count": 9,
   "id": "e78a7a5b",
   "metadata": {
    "execution": {
     "iopub.execute_input": "2025-04-29T22:14:10.882238Z",
     "iopub.status.busy": "2025-04-29T22:14:10.881915Z",
     "iopub.status.idle": "2025-04-29T22:14:10.894273Z",
     "shell.execute_reply": "2025-04-29T22:14:10.893366Z"
    },
    "papermill": {
     "duration": 0.022069,
     "end_time": "2025-04-29T22:14:10.895882",
     "exception": false,
     "start_time": "2025-04-29T22:14:10.873813",
     "status": "completed"
    },
    "tags": []
   },
   "outputs": [
    {
     "data": {
      "text/plain": [
       "tensor([ 0,  2,  4,  6,  8, 10])"
      ]
     },
     "execution_count": 9,
     "metadata": {},
     "output_type": "execute_result"
    }
   ],
   "source": [
    "zero_to_ten = torch.arange(0,12, step=2)\n",
    "zero_to_ten"
   ]
  },
  {
   "cell_type": "code",
   "execution_count": 10,
   "id": "837803d9",
   "metadata": {
    "execution": {
     "iopub.execute_input": "2025-04-29T22:14:10.911138Z",
     "iopub.status.busy": "2025-04-29T22:14:10.910799Z",
     "iopub.status.idle": "2025-04-29T22:14:10.918415Z",
     "shell.execute_reply": "2025-04-29T22:14:10.917549Z"
    },
    "papermill": {
     "duration": 0.016906,
     "end_time": "2025-04-29T22:14:10.919876",
     "exception": false,
     "start_time": "2025-04-29T22:14:10.902970",
     "status": "completed"
    },
    "tags": []
   },
   "outputs": [
    {
     "data": {
      "text/plain": [
       "tensor([1, 1, 1, 1, 1, 1])"
      ]
     },
     "execution_count": 10,
     "metadata": {},
     "output_type": "execute_result"
    }
   ],
   "source": [
    "ten_ones = torch.ones_like(input=zero_to_ten)\n",
    "ten_ones"
   ]
  },
  {
   "cell_type": "code",
   "execution_count": 11,
   "id": "e1c80c7c",
   "metadata": {
    "execution": {
     "iopub.execute_input": "2025-04-29T22:14:10.936535Z",
     "iopub.status.busy": "2025-04-29T22:14:10.935532Z",
     "iopub.status.idle": "2025-04-29T22:14:10.942942Z",
     "shell.execute_reply": "2025-04-29T22:14:10.942112Z"
    },
    "papermill": {
     "duration": 0.017295,
     "end_time": "2025-04-29T22:14:10.944481",
     "exception": false,
     "start_time": "2025-04-29T22:14:10.927186",
     "status": "completed"
    },
    "tags": []
   },
   "outputs": [
    {
     "data": {
      "text/plain": [
       "(torch.Size([3]), torch.float32, device(type='cpu'))"
      ]
     },
     "execution_count": 11,
     "metadata": {},
     "output_type": "execute_result"
    }
   ],
   "source": [
    "# Default datatype for tensors is float32\n",
    "float_32_tensor = torch.tensor([3.0, 6.0, 9.0],\n",
    "                               dtype=None, # defaults to None, which is torch.float32 or whatever datatype is passed\n",
    "                               device=None, # defaults to None, which uses the default tensor type\n",
    "                               requires_grad=False) # if True, operations performed on the tensor are recorded \n",
    "\n",
    "float_32_tensor.shape, float_32_tensor.dtype, float_32_tensor.device"
   ]
  },
  {
   "cell_type": "code",
   "execution_count": 12,
   "id": "bed8c3c3",
   "metadata": {
    "execution": {
     "iopub.execute_input": "2025-04-29T22:14:10.960502Z",
     "iopub.status.busy": "2025-04-29T22:14:10.960220Z",
     "iopub.status.idle": "2025-04-29T22:14:10.966151Z",
     "shell.execute_reply": "2025-04-29T22:14:10.965271Z"
    },
    "papermill": {
     "duration": 0.015542,
     "end_time": "2025-04-29T22:14:10.967473",
     "exception": false,
     "start_time": "2025-04-29T22:14:10.951931",
     "status": "completed"
    },
    "tags": []
   },
   "outputs": [
    {
     "data": {
      "text/plain": [
       "torch.float16"
      ]
     },
     "execution_count": 12,
     "metadata": {},
     "output_type": "execute_result"
    }
   ],
   "source": [
    "float_16_tensor = torch.tensor([3,2,6], dtype=torch.float16)\n",
    "float_16_tensor.dtype"
   ]
  },
  {
   "cell_type": "markdown",
   "id": "9c45112a",
   "metadata": {
    "papermill": {
     "duration": 0.006984,
     "end_time": "2025-04-29T22:14:10.982124",
     "exception": false,
     "start_time": "2025-04-29T22:14:10.975140",
     "status": "completed"
    },
    "tags": []
   },
   "source": [
    "## Tensor Ops"
   ]
  },
  {
   "cell_type": "code",
   "execution_count": 13,
   "id": "61782db5",
   "metadata": {
    "execution": {
     "iopub.execute_input": "2025-04-29T22:14:10.997637Z",
     "iopub.status.busy": "2025-04-29T22:14:10.997348Z",
     "iopub.status.idle": "2025-04-29T22:14:11.008904Z",
     "shell.execute_reply": "2025-04-29T22:14:11.007988Z"
    },
    "papermill": {
     "duration": 0.021133,
     "end_time": "2025-04-29T22:14:11.010402",
     "exception": false,
     "start_time": "2025-04-29T22:14:10.989269",
     "status": "completed"
    },
    "tags": []
   },
   "outputs": [
    {
     "data": {
      "text/plain": [
       "(tensor([[0.8021, 0.6050, 0.7358, 0.7591, 0.6244]]),\n",
       " tensor([[5.8021, 5.6050, 5.7358, 5.7591, 5.6244]]))"
      ]
     },
     "execution_count": 13,
     "metadata": {},
     "output_type": "execute_result"
    }
   ],
   "source": [
    "rand = torch.rand(size=(1,5))\n",
    "rand, rand + 5"
   ]
  },
  {
   "cell_type": "code",
   "execution_count": 14,
   "id": "542c5737",
   "metadata": {
    "execution": {
     "iopub.execute_input": "2025-04-29T22:14:11.026746Z",
     "iopub.status.busy": "2025-04-29T22:14:11.026409Z",
     "iopub.status.idle": "2025-04-29T22:14:11.034551Z",
     "shell.execute_reply": "2025-04-29T22:14:11.033523Z"
    },
    "papermill": {
     "duration": 0.018378,
     "end_time": "2025-04-29T22:14:11.036382",
     "exception": false,
     "start_time": "2025-04-29T22:14:11.018004",
     "status": "completed"
    },
    "tags": []
   },
   "outputs": [
    {
     "data": {
      "text/plain": [
       "(tensor([[1., 1.],\n",
       "         [1., 1.]]),\n",
       " tensor([[2., 2.],\n",
       "         [2., 2.]]))"
      ]
     },
     "execution_count": 14,
     "metadata": {},
     "output_type": "execute_result"
    }
   ],
   "source": [
    "ones = torch.ones(size=(2,2))\n",
    "ones, ones * 2"
   ]
  },
  {
   "cell_type": "code",
   "execution_count": 15,
   "id": "7e45f726",
   "metadata": {
    "execution": {
     "iopub.execute_input": "2025-04-29T22:14:11.120051Z",
     "iopub.status.busy": "2025-04-29T22:14:11.119657Z",
     "iopub.status.idle": "2025-04-29T22:14:11.130164Z",
     "shell.execute_reply": "2025-04-29T22:14:11.129165Z"
    },
    "papermill": {
     "duration": 0.020701,
     "end_time": "2025-04-29T22:14:11.131760",
     "exception": false,
     "start_time": "2025-04-29T22:14:11.111059",
     "status": "completed"
    },
    "tags": []
   },
   "outputs": [
    {
     "data": {
      "text/plain": [
       "(tensor([[0., 0.],\n",
       "         [0., 0.]]),\n",
       " tensor([[-10., -10.],\n",
       "         [-10., -10.]]))"
      ]
     },
     "execution_count": 15,
     "metadata": {},
     "output_type": "execute_result"
    }
   ],
   "source": [
    "zeros = torch.zeros_like(input=ones)\n",
    "zeros, zeros - 10"
   ]
  },
  {
   "cell_type": "code",
   "execution_count": 16,
   "id": "795a0d78",
   "metadata": {
    "execution": {
     "iopub.execute_input": "2025-04-29T22:14:11.148195Z",
     "iopub.status.busy": "2025-04-29T22:14:11.147902Z",
     "iopub.status.idle": "2025-04-29T22:14:11.154915Z",
     "shell.execute_reply": "2025-04-29T22:14:11.153925Z"
    },
    "papermill": {
     "duration": 0.016972,
     "end_time": "2025-04-29T22:14:11.156377",
     "exception": false,
     "start_time": "2025-04-29T22:14:11.139405",
     "status": "completed"
    },
    "tags": []
   },
   "outputs": [
    {
     "data": {
      "text/plain": [
       "tensor([[2., 2.],\n",
       "        [2., 2.]])"
      ]
     },
     "execution_count": 16,
     "metadata": {},
     "output_type": "execute_result"
    }
   ],
   "source": [
    "ones * (zeros + 2)"
   ]
  },
  {
   "cell_type": "code",
   "execution_count": 17,
   "id": "2302bc0a",
   "metadata": {
    "execution": {
     "iopub.execute_input": "2025-04-29T22:14:11.172546Z",
     "iopub.status.busy": "2025-04-29T22:14:11.172255Z",
     "iopub.status.idle": "2025-04-29T22:14:11.178271Z",
     "shell.execute_reply": "2025-04-29T22:14:11.177491Z"
    },
    "papermill": {
     "duration": 0.015799,
     "end_time": "2025-04-29T22:14:11.179666",
     "exception": false,
     "start_time": "2025-04-29T22:14:11.163867",
     "status": "completed"
    },
    "tags": []
   },
   "outputs": [
    {
     "data": {
      "text/plain": [
       "(torch.Size([3]), 1)"
      ]
     },
     "execution_count": 17,
     "metadata": {},
     "output_type": "execute_result"
    }
   ],
   "source": [
    "# matrix mult.\n",
    "# inner dims must match\n",
    "# (3, 2) @ (3, 2) won't work\n",
    "# (2, 3) @ (3, 2) will work\n",
    "\n",
    "# output will have outer dims as new dims\n",
    "# (2, 3) @ (3, 2) -> (2, 2)\n",
    "\n",
    "tensor = torch.tensor([1,2,3])\n",
    "tensor.shape, tensor.ndim"
   ]
  },
  {
   "cell_type": "code",
   "execution_count": 18,
   "id": "763a2e7f",
   "metadata": {
    "execution": {
     "iopub.execute_input": "2025-04-29T22:14:11.196385Z",
     "iopub.status.busy": "2025-04-29T22:14:11.196107Z",
     "iopub.status.idle": "2025-04-29T22:14:11.212978Z",
     "shell.execute_reply": "2025-04-29T22:14:11.212019Z"
    },
    "papermill": {
     "duration": 0.027065,
     "end_time": "2025-04-29T22:14:11.214480",
     "exception": false,
     "start_time": "2025-04-29T22:14:11.187415",
     "status": "completed"
    },
    "tags": []
   },
   "outputs": [
    {
     "data": {
      "text/plain": [
       "(tensor([1, 4, 9]), tensor(14), tensor(14))"
      ]
     },
     "execution_count": 18,
     "metadata": {},
     "output_type": "execute_result"
    }
   ],
   "source": [
    "# element wise vs matrix mult.\n",
    "# matrix mult. adds together at end\n",
    "tensor * tensor, tensor @ tensor, tensor.matmul(tensor) # (3) and (3) match"
   ]
  },
  {
   "cell_type": "code",
   "execution_count": 19,
   "id": "3a351685",
   "metadata": {
    "execution": {
     "iopub.execute_input": "2025-04-29T22:14:11.231424Z",
     "iopub.status.busy": "2025-04-29T22:14:11.231148Z",
     "iopub.status.idle": "2025-04-29T22:14:11.239306Z",
     "shell.execute_reply": "2025-04-29T22:14:11.238476Z"
    },
    "papermill": {
     "duration": 0.018185,
     "end_time": "2025-04-29T22:14:11.240644",
     "exception": false,
     "start_time": "2025-04-29T22:14:11.222459",
     "status": "completed"
    },
    "tags": []
   },
   "outputs": [
    {
     "name": "stdout",
     "output_type": "stream",
     "text": [
      "CPU times: user 541 µs, sys: 0 ns, total: 541 µs\n",
      "Wall time: 467 µs\n"
     ]
    },
    {
     "data": {
      "text/plain": [
       "tensor(14)"
      ]
     },
     "execution_count": 19,
     "metadata": {},
     "output_type": "execute_result"
    }
   ],
   "source": [
    "%%time\n",
    "tensor @ tensor"
   ]
  },
  {
   "cell_type": "code",
   "execution_count": 20,
   "id": "84b819cc",
   "metadata": {
    "execution": {
     "iopub.execute_input": "2025-04-29T22:14:11.258141Z",
     "iopub.status.busy": "2025-04-29T22:14:11.257822Z",
     "iopub.status.idle": "2025-04-29T22:14:11.265735Z",
     "shell.execute_reply": "2025-04-29T22:14:11.264644Z"
    },
    "papermill": {
     "duration": 0.018867,
     "end_time": "2025-04-29T22:14:11.267324",
     "exception": false,
     "start_time": "2025-04-29T22:14:11.248457",
     "status": "completed"
    },
    "tags": []
   },
   "outputs": [
    {
     "name": "stdout",
     "output_type": "stream",
     "text": [
      "CPU times: user 0 ns, sys: 806 µs, total: 806 µs\n",
      "Wall time: 666 µs\n"
     ]
    },
    {
     "data": {
      "text/plain": [
       "tensor(14)"
      ]
     },
     "execution_count": 20,
     "metadata": {},
     "output_type": "execute_result"
    }
   ],
   "source": [
    "%%time\n",
    "tensor.matmul(tensor) # faster"
   ]
  },
  {
   "cell_type": "code",
   "execution_count": 21,
   "id": "1ccf3cd1",
   "metadata": {
    "execution": {
     "iopub.execute_input": "2025-04-29T22:14:11.285383Z",
     "iopub.status.busy": "2025-04-29T22:14:11.284494Z",
     "iopub.status.idle": "2025-04-29T22:14:11.302220Z",
     "shell.execute_reply": "2025-04-29T22:14:11.301155Z"
    },
    "papermill": {
     "duration": 0.028311,
     "end_time": "2025-04-29T22:14:11.303843",
     "exception": false,
     "start_time": "2025-04-29T22:14:11.275532",
     "status": "completed"
    },
    "tags": []
   },
   "outputs": [
    {
     "data": {
      "text/plain": [
       "(tensor([[1., 2.],\n",
       "         [3., 4.],\n",
       "         [5., 6.]]),\n",
       " tensor([[ 7.,  8.,  9.],\n",
       "         [10., 11., 12.]]),\n",
       " torch.Size([3, 2]),\n",
       " torch.Size([2, 3]))"
      ]
     },
     "execution_count": 21,
     "metadata": {},
     "output_type": "execute_result"
    }
   ],
   "source": [
    "A = torch.tensor([[1, 2],\n",
    "                         [3, 4],\n",
    "                         [5, 6]], dtype=torch.float32)\n",
    "\n",
    "B = torch.tensor([[7, 10],\n",
    "                         [8, 11], \n",
    "                         [9, 12]], dtype=torch.float32)\n",
    "\n",
    "A, B.T, A.shape, torch.transpose(B, 0, 1).shape # transpose switches dims."
   ]
  },
  {
   "cell_type": "code",
   "execution_count": 22,
   "id": "19aa3cd0",
   "metadata": {
    "execution": {
     "iopub.execute_input": "2025-04-29T22:14:11.322563Z",
     "iopub.status.busy": "2025-04-29T22:14:11.322117Z",
     "iopub.status.idle": "2025-04-29T22:14:11.346932Z",
     "shell.execute_reply": "2025-04-29T22:14:11.345941Z"
    },
    "papermill": {
     "duration": 0.035962,
     "end_time": "2025-04-29T22:14:11.348542",
     "exception": false,
     "start_time": "2025-04-29T22:14:11.312580",
     "status": "completed"
    },
    "tags": []
   },
   "outputs": [
    {
     "data": {
      "text/plain": [
       "tensor([[ 27.,  30.,  33.],\n",
       "        [ 61.,  68.,  75.],\n",
       "        [ 95., 106., 117.]])"
      ]
     },
     "execution_count": 22,
     "metadata": {},
     "output_type": "execute_result"
    }
   ],
   "source": [
    "torch.mm(A, B.T) # matrix mult."
   ]
  },
  {
   "cell_type": "code",
   "execution_count": 23,
   "id": "daa9b75e",
   "metadata": {
    "execution": {
     "iopub.execute_input": "2025-04-29T22:14:11.367514Z",
     "iopub.status.busy": "2025-04-29T22:14:11.366591Z",
     "iopub.status.idle": "2025-04-29T22:14:11.393174Z",
     "shell.execute_reply": "2025-04-29T22:14:11.391984Z"
    },
    "papermill": {
     "duration": 0.037868,
     "end_time": "2025-04-29T22:14:11.394914",
     "exception": false,
     "start_time": "2025-04-29T22:14:11.357046",
     "status": "completed"
    },
    "tags": []
   },
   "outputs": [
    {
     "name": "stdout",
     "output_type": "stream",
     "text": [
      "Input shape: torch.Size([2, 3])\n",
      "\n",
      "Output:\n",
      "tensor([[0.9332, 0.8805, 3.0149, 1.5545, 1.8186, 2.0634],\n",
      "        [1.7186, 1.4009, 3.5818, 1.7408, 2.6017, 2.5123]],\n",
      "       grad_fn=<AddmmBackward0>)\n",
      "\n",
      "Output shape: torch.Size([2, 6])\n"
     ]
    }
   ],
   "source": [
    "# Linear layer\n",
    "# m x n => m input features to n output neurons\n",
    "\n",
    "torch.manual_seed(42)\n",
    "\n",
    "linear = torch.nn.Linear(in_features=3, out_features=6)\n",
    "\n",
    "x = A.T # 2x3 (2 inputs of size 3)\n",
    "output = linear(x)\n",
    "\n",
    "print(f\"Input shape: {x.shape}\\n\")\n",
    "print(f\"Output:\\n{output}\\n\\nOutput shape: {output.shape}\")\n",
    "# output = 2x3 @ 3x6 => 2x6 (2 outputs with 6 features)"
   ]
  },
  {
   "cell_type": "code",
   "execution_count": 24,
   "id": "e2f60e48",
   "metadata": {
    "execution": {
     "iopub.execute_input": "2025-04-29T22:14:11.413854Z",
     "iopub.status.busy": "2025-04-29T22:14:11.413515Z",
     "iopub.status.idle": "2025-04-29T22:14:11.422296Z",
     "shell.execute_reply": "2025-04-29T22:14:11.421538Z"
    },
    "papermill": {
     "duration": 0.019757,
     "end_time": "2025-04-29T22:14:11.423953",
     "exception": false,
     "start_time": "2025-04-29T22:14:11.404196",
     "status": "completed"
    },
    "tags": []
   },
   "outputs": [
    {
     "data": {
      "text/plain": [
       "(tensor(0), tensor(90), tensor(45.), tensor(450))"
      ]
     },
     "execution_count": 24,
     "metadata": {},
     "output_type": "execute_result"
    }
   ],
   "source": [
    "# aggregation\n",
    "\n",
    "x = torch.arange(0, 100, 10)\n",
    "x.min(), x.max(), x.type(torch.float32).mean(), x.sum() # scalars"
   ]
  },
  {
   "cell_type": "code",
   "execution_count": 25,
   "id": "1c2c34e6",
   "metadata": {
    "execution": {
     "iopub.execute_input": "2025-04-29T22:14:11.442080Z",
     "iopub.status.busy": "2025-04-29T22:14:11.441765Z",
     "iopub.status.idle": "2025-04-29T22:14:11.450599Z",
     "shell.execute_reply": "2025-04-29T22:14:11.449691Z"
    },
    "papermill": {
     "duration": 0.019903,
     "end_time": "2025-04-29T22:14:11.452318",
     "exception": false,
     "start_time": "2025-04-29T22:14:11.432415",
     "status": "completed"
    },
    "tags": []
   },
   "outputs": [
    {
     "data": {
      "text/plain": [
       "(tensor(9), tensor(0))"
      ]
     },
     "execution_count": 25,
     "metadata": {},
     "output_type": "execute_result"
    }
   ],
   "source": [
    "x.argmax(), x.argmin() # positional min/max"
   ]
  },
  {
   "cell_type": "code",
   "execution_count": 26,
   "id": "fa284543",
   "metadata": {
    "execution": {
     "iopub.execute_input": "2025-04-29T22:14:11.471420Z",
     "iopub.status.busy": "2025-04-29T22:14:11.471096Z",
     "iopub.status.idle": "2025-04-29T22:14:11.478372Z",
     "shell.execute_reply": "2025-04-29T22:14:11.477453Z"
    },
    "papermill": {
     "duration": 0.018063,
     "end_time": "2025-04-29T22:14:11.479919",
     "exception": false,
     "start_time": "2025-04-29T22:14:11.461856",
     "status": "completed"
    },
    "tags": []
   },
   "outputs": [
    {
     "data": {
      "text/plain": [
       "(tensor([1, 2, 3, 4, 5, 6, 7]), torch.Size([7]))"
      ]
     },
     "execution_count": 26,
     "metadata": {},
     "output_type": "execute_result"
    }
   ],
   "source": [
    "# reshaping, stacking, squeezing, unsqueezing\n",
    "\n",
    "x = torch.arange(1, 8)\n",
    "x, x.shape"
   ]
  },
  {
   "cell_type": "code",
   "execution_count": 27,
   "id": "84abbeb2",
   "metadata": {
    "execution": {
     "iopub.execute_input": "2025-04-29T22:14:11.499444Z",
     "iopub.status.busy": "2025-04-29T22:14:11.499118Z",
     "iopub.status.idle": "2025-04-29T22:14:11.506580Z",
     "shell.execute_reply": "2025-04-29T22:14:11.505530Z"
    },
    "papermill": {
     "duration": 0.01989,
     "end_time": "2025-04-29T22:14:11.508419",
     "exception": false,
     "start_time": "2025-04-29T22:14:11.488529",
     "status": "completed"
    },
    "tags": []
   },
   "outputs": [
    {
     "data": {
      "text/plain": [
       "(tensor([[1, 2, 3, 4, 5, 6, 7]]), torch.Size([1, 7]))"
      ]
     },
     "execution_count": 27,
     "metadata": {},
     "output_type": "execute_result"
    }
   ],
   "source": [
    "x_reshaped = x.reshape(1, 7) # added extra dimension\n",
    "x_reshaped, x_reshaped.shape # creates new copy without sharing data (copy)"
   ]
  },
  {
   "cell_type": "code",
   "execution_count": 28,
   "id": "ba220c43",
   "metadata": {
    "execution": {
     "iopub.execute_input": "2025-04-29T22:14:11.527521Z",
     "iopub.status.busy": "2025-04-29T22:14:11.527209Z",
     "iopub.status.idle": "2025-04-29T22:14:11.533862Z",
     "shell.execute_reply": "2025-04-29T22:14:11.532933Z"
    },
    "papermill": {
     "duration": 0.017659,
     "end_time": "2025-04-29T22:14:11.535241",
     "exception": false,
     "start_time": "2025-04-29T22:14:11.517582",
     "status": "completed"
    },
    "tags": []
   },
   "outputs": [
    {
     "data": {
      "text/plain": [
       "(tensor([[1, 2, 3, 4, 5, 6, 7]]), torch.Size([1, 7]))"
      ]
     },
     "execution_count": 28,
     "metadata": {},
     "output_type": "execute_result"
    }
   ],
   "source": [
    "z = x.view(1, 7)\n",
    "z, z.shape # view reshapes but shares data (reference)"
   ]
  },
  {
   "cell_type": "code",
   "execution_count": 29,
   "id": "7f79b3ff",
   "metadata": {
    "execution": {
     "iopub.execute_input": "2025-04-29T22:14:11.553712Z",
     "iopub.status.busy": "2025-04-29T22:14:11.553361Z",
     "iopub.status.idle": "2025-04-29T22:14:11.565371Z",
     "shell.execute_reply": "2025-04-29T22:14:11.564421Z"
    },
    "papermill": {
     "duration": 0.022978,
     "end_time": "2025-04-29T22:14:11.566868",
     "exception": false,
     "start_time": "2025-04-29T22:14:11.543890",
     "status": "completed"
    },
    "tags": []
   },
   "outputs": [
    {
     "data": {
      "text/plain": [
       "(tensor([[5, 2, 3, 4, 5, 6, 7]]), tensor([5, 2, 3, 4, 5, 6, 7]))"
      ]
     },
     "execution_count": 29,
     "metadata": {},
     "output_type": "execute_result"
    }
   ],
   "source": [
    "z[:, 0] = 5\n",
    "z, x"
   ]
  },
  {
   "cell_type": "code",
   "execution_count": 30,
   "id": "083e82eb",
   "metadata": {
    "execution": {
     "iopub.execute_input": "2025-04-29T22:14:11.585655Z",
     "iopub.status.busy": "2025-04-29T22:14:11.585357Z",
     "iopub.status.idle": "2025-04-29T22:14:11.592361Z",
     "shell.execute_reply": "2025-04-29T22:14:11.591566Z"
    },
    "papermill": {
     "duration": 0.017887,
     "end_time": "2025-04-29T22:14:11.593658",
     "exception": false,
     "start_time": "2025-04-29T22:14:11.575771",
     "status": "completed"
    },
    "tags": []
   },
   "outputs": [
    {
     "data": {
      "text/plain": [
       "tensor([[5, 5, 5],\n",
       "        [2, 2, 2],\n",
       "        [3, 3, 3],\n",
       "        [4, 4, 4],\n",
       "        [5, 5, 5],\n",
       "        [6, 6, 6],\n",
       "        [7, 7, 7]])"
      ]
     },
     "execution_count": 30,
     "metadata": {},
     "output_type": "execute_result"
    }
   ],
   "source": [
    "x_stacked = torch.stack([x,x,x], dim=1) # zero concats; 1 concats element wise\n",
    "x_stacked"
   ]
  },
  {
   "cell_type": "code",
   "execution_count": 31,
   "id": "5ecfcb6b",
   "metadata": {
    "execution": {
     "iopub.execute_input": "2025-04-29T22:14:11.613170Z",
     "iopub.status.busy": "2025-04-29T22:14:11.612810Z",
     "iopub.status.idle": "2025-04-29T22:14:11.620978Z",
     "shell.execute_reply": "2025-04-29T22:14:11.619795Z"
    },
    "papermill": {
     "duration": 0.019471,
     "end_time": "2025-04-29T22:14:11.622518",
     "exception": false,
     "start_time": "2025-04-29T22:14:11.603047",
     "status": "completed"
    },
    "tags": []
   },
   "outputs": [
    {
     "name": "stdout",
     "output_type": "stream",
     "text": [
      "tensor([[5, 2, 3, 4, 5, 6, 7]]) torch.Size([1, 7])\n",
      "tensor([5, 2, 3, 4, 5, 6, 7]) torch.Size([7])\n",
      "tensor([[5],\n",
      "        [2],\n",
      "        [3],\n",
      "        [4],\n",
      "        [5],\n",
      "        [6],\n",
      "        [7]]) torch.Size([7, 1])\n"
     ]
    }
   ],
   "source": [
    "print(x_reshaped, x_reshaped.shape)\n",
    "\n",
    "x_squeezed = x_reshaped.squeeze()\n",
    "print(x_squeezed, x_squeezed.shape) # squeeze to a single dimension\n",
    "x_reshaped = x_squeezed.unsqueeze(dim=1) # add 1 at certain dimension\n",
    "print(x_reshaped, x_reshaped.shape)\n"
   ]
  },
  {
   "cell_type": "code",
   "execution_count": 32,
   "id": "0714c736",
   "metadata": {
    "execution": {
     "iopub.execute_input": "2025-04-29T22:14:11.642242Z",
     "iopub.status.busy": "2025-04-29T22:14:11.641921Z",
     "iopub.status.idle": "2025-04-29T22:14:11.650166Z",
     "shell.execute_reply": "2025-04-29T22:14:11.649289Z"
    },
    "papermill": {
     "duration": 0.020047,
     "end_time": "2025-04-29T22:14:11.651760",
     "exception": false,
     "start_time": "2025-04-29T22:14:11.631713",
     "status": "completed"
    },
    "tags": []
   },
   "outputs": [
    {
     "data": {
      "text/plain": [
       "(torch.Size([224, 224, 3]), torch.Size([3, 224, 224]))"
      ]
     },
     "execution_count": 32,
     "metadata": {},
     "output_type": "execute_result"
    }
   ],
   "source": [
    "x_original = torch.rand(size=(224, 224, 3))\n",
    "x_permuted = x_original.permute(2, 0, 1) # returns view\n",
    "x_original.shape, x_permuted.shape"
   ]
  },
  {
   "cell_type": "code",
   "execution_count": 33,
   "id": "421e22be",
   "metadata": {
    "execution": {
     "iopub.execute_input": "2025-04-29T22:14:11.670995Z",
     "iopub.status.busy": "2025-04-29T22:14:11.670619Z",
     "iopub.status.idle": "2025-04-29T22:14:11.678765Z",
     "shell.execute_reply": "2025-04-29T22:14:11.677758Z"
    },
    "papermill": {
     "duration": 0.019519,
     "end_time": "2025-04-29T22:14:11.680378",
     "exception": false,
     "start_time": "2025-04-29T22:14:11.660859",
     "status": "completed"
    },
    "tags": []
   },
   "outputs": [
    {
     "data": {
      "text/plain": [
       "tensor([[[1, 2, 3],\n",
       "         [4, 5, 6],\n",
       "         [7, 8, 9]]])"
      ]
     },
     "execution_count": 33,
     "metadata": {},
     "output_type": "execute_result"
    }
   ],
   "source": [
    "# indexing\n",
    "\n",
    "x = torch.arange(1, 10).reshape(1, 3, 3)\n",
    "x"
   ]
  },
  {
   "cell_type": "code",
   "execution_count": 34,
   "id": "1ca1ba45",
   "metadata": {
    "execution": {
     "iopub.execute_input": "2025-04-29T22:14:11.700448Z",
     "iopub.status.busy": "2025-04-29T22:14:11.700130Z",
     "iopub.status.idle": "2025-04-29T22:14:11.707977Z",
     "shell.execute_reply": "2025-04-29T22:14:11.706992Z"
    },
    "papermill": {
     "duration": 0.019595,
     "end_time": "2025-04-29T22:14:11.709477",
     "exception": false,
     "start_time": "2025-04-29T22:14:11.689882",
     "status": "completed"
    },
    "tags": []
   },
   "outputs": [
    {
     "data": {
      "text/plain": [
       "tensor([[1, 2, 3]])"
      ]
     },
     "execution_count": 34,
     "metadata": {},
     "output_type": "execute_result"
    }
   ],
   "source": [
    "x[:, 0] # all values in 0th dim and 0 index in 1st dim"
   ]
  },
  {
   "cell_type": "code",
   "execution_count": 35,
   "id": "96f741e4",
   "metadata": {
    "execution": {
     "iopub.execute_input": "2025-04-29T22:14:11.729927Z",
     "iopub.status.busy": "2025-04-29T22:14:11.728872Z",
     "iopub.status.idle": "2025-04-29T22:14:11.736018Z",
     "shell.execute_reply": "2025-04-29T22:14:11.735057Z"
    },
    "papermill": {
     "duration": 0.018688,
     "end_time": "2025-04-29T22:14:11.737526",
     "exception": false,
     "start_time": "2025-04-29T22:14:11.718838",
     "status": "completed"
    },
    "tags": []
   },
   "outputs": [
    {
     "data": {
      "text/plain": [
       "tensor([[2, 5, 8]])"
      ]
     },
     "execution_count": 35,
     "metadata": {},
     "output_type": "execute_result"
    }
   ],
   "source": [
    "x[:, :, 1] # all values in 0th and 1st but get 2nd index"
   ]
  },
  {
   "cell_type": "code",
   "execution_count": 36,
   "id": "8f8a19a3",
   "metadata": {
    "execution": {
     "iopub.execute_input": "2025-04-29T22:14:11.757153Z",
     "iopub.status.busy": "2025-04-29T22:14:11.756820Z",
     "iopub.status.idle": "2025-04-29T22:14:11.903647Z",
     "shell.execute_reply": "2025-04-29T22:14:11.902436Z"
    },
    "papermill": {
     "duration": 0.158611,
     "end_time": "2025-04-29T22:14:11.905453",
     "exception": false,
     "start_time": "2025-04-29T22:14:11.746842",
     "status": "completed"
    },
    "tags": []
   },
   "outputs": [
    {
     "name": "stdout",
     "output_type": "stream",
     "text": [
      "/bin/bash: line 1: nvidia-smi: command not found\r\n"
     ]
    },
    {
     "data": {
      "text/plain": [
       "False"
      ]
     },
     "execution_count": 36,
     "metadata": {},
     "output_type": "execute_result"
    }
   ],
   "source": [
    "!nvidia-smi\n",
    "torch.cuda.is_available()"
   ]
  },
  {
   "cell_type": "code",
   "execution_count": 37,
   "id": "3b150863",
   "metadata": {
    "execution": {
     "iopub.execute_input": "2025-04-29T22:14:11.925546Z",
     "iopub.status.busy": "2025-04-29T22:14:11.925224Z",
     "iopub.status.idle": "2025-04-29T22:14:11.930566Z",
     "shell.execute_reply": "2025-04-29T22:14:11.929672Z"
    },
    "papermill": {
     "duration": 0.017296,
     "end_time": "2025-04-29T22:14:11.932147",
     "exception": false,
     "start_time": "2025-04-29T22:14:11.914851",
     "status": "completed"
    },
    "tags": []
   },
   "outputs": [],
   "source": [
    "if torch.cuda.is_available():\n",
    "    device = \"cuda\" # Use NVIDIA GPU (if available)\n",
    "elif torch.backends.mps.is_available():\n",
    "    device = \"mps\" # Use Apple Silicon GPU (if available)\n",
    "else:\n",
    "    device = \"cpu\" # Default to CPU if no GPU is available"
   ]
  },
  {
   "cell_type": "code",
   "execution_count": 38,
   "id": "0ebd938c",
   "metadata": {
    "execution": {
     "iopub.execute_input": "2025-04-29T22:14:11.953877Z",
     "iopub.status.busy": "2025-04-29T22:14:11.953014Z",
     "iopub.status.idle": "2025-04-29T22:14:11.959263Z",
     "shell.execute_reply": "2025-04-29T22:14:11.958445Z"
    },
    "papermill": {
     "duration": 0.019098,
     "end_time": "2025-04-29T22:14:11.961039",
     "exception": false,
     "start_time": "2025-04-29T22:14:11.941941",
     "status": "completed"
    },
    "tags": []
   },
   "outputs": [
    {
     "data": {
      "text/plain": [
       "False"
      ]
     },
     "execution_count": 38,
     "metadata": {},
     "output_type": "execute_result"
    }
   ],
   "source": [
    "torch.backends.mps.is_available()"
   ]
  },
  {
   "cell_type": "code",
   "execution_count": null,
   "id": "7887a859",
   "metadata": {
    "papermill": {
     "duration": 0.008912,
     "end_time": "2025-04-29T22:14:11.979473",
     "exception": false,
     "start_time": "2025-04-29T22:14:11.970561",
     "status": "completed"
    },
    "tags": []
   },
   "outputs": [],
   "source": []
  }
 ],
 "metadata": {
  "kaggle": {
   "accelerator": "none",
   "dataSources": [],
   "dockerImageVersionId": 31012,
   "isGpuEnabled": false,
   "isInternetEnabled": true,
   "language": "python",
   "sourceType": "notebook"
  },
  "kernelspec": {
   "display_name": "Python 3",
   "language": "python",
   "name": "python3"
  },
  "language_info": {
   "codemirror_mode": {
    "name": "ipython",
    "version": 3
   },
   "file_extension": ".py",
   "mimetype": "text/x-python",
   "name": "python",
   "nbconvert_exporter": "python",
   "pygments_lexer": "ipython3",
   "version": "3.11.11"
  },
  "papermill": {
   "default_parameters": {},
   "duration": 20.868688,
   "end_time": "2025-04-29T22:14:15.329104",
   "environment_variables": {},
   "exception": null,
   "input_path": "__notebook__.ipynb",
   "output_path": "__notebook__.ipynb",
   "parameters": {},
   "start_time": "2025-04-29T22:13:54.460416",
   "version": "2.6.0"
  }
 },
 "nbformat": 4,
 "nbformat_minor": 5
}
